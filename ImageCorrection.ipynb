{
 "cells": [
  {
   "cell_type": "code",
   "execution_count": 1,
   "metadata": {},
   "outputs": [
    {
     "data": {
      "text/plain": [
       "['x_test', 'x_train', 'y_train', 'y_test']"
      ]
     },
     "execution_count": 1,
     "metadata": {},
     "output_type": "execute_result"
    }
   ],
   "source": [
    "import numpy as np\n",
    "import tensorflow as tf\n",
    "import pandas as pd\n",
    "import matplotlib.pyplot as plt\n",
    "import imutils\n",
    "import random\n",
    "data = np.load('mnist.npz')\n",
    "data.files"
   ]
  },
  {
   "cell_type": "code",
   "execution_count": 2,
   "metadata": {},
   "outputs": [],
   "source": [
    "x_train=data['x_train']\n",
    "x_test=data['x_test']\n",
    "y_train=data['y_train']\n",
    "y_test=data['y_test']"
   ]
  },
  {
   "cell_type": "code",
   "execution_count": 4,
   "metadata": {},
   "outputs": [],
   "source": [
    "def transform_by_rotation(image,ang):\n",
    "    return imutils.rotate(image,angle=ang)  "
   ]
  },
  {
   "cell_type": "code",
   "execution_count": 24,
   "metadata": {},
   "outputs": [],
   "source": [
    "def accuracy(hist):\n",
    "    return 100*(len(hist[hist[\"difference\"]<=15])/len(hist[\"difference\"]))"
   ]
  },
  {
   "cell_type": "code",
   "execution_count": 54,
   "metadata": {},
   "outputs": [],
   "source": [
    "li=[0,1,2,3,4,5,6,7,8,9]\n",
    "info=pd.DataFrame(li,columns=[\"Number\"])\n",
    "info[\"Samples available\"]=[len(y_train[y_train==i]) for i in li]"
   ]
  },
  {
   "cell_type": "code",
   "execution_count": 58,
   "metadata": {},
   "outputs": [
    {
     "data": {
      "image/png": "[encoded data removed]",
      "text/plain": [
       "<Figure size 432x288 with 1 Axes>"
      ]
     },
     "metadata": {
      "needs_background": "light"
     },
     "output_type": "display_data"
    }
   ],
   "source": [
    "plt.hist(li,weights=info[\"Samples available\"]) ## No of Images Avaiable for each Number\n",
    "plt.show()"
   ]
  },
  {
   "cell_type": "markdown",
   "metadata": {},
   "source": [
    "### Transforming the Image by Rotating through some random angle"
   ]
  },
  {
   "cell_type": "code",
   "execution_count": 6,
   "metadata": {},
   "outputs": [],
   "source": [
    "angle_train=[random.randrange(-45,45,1) for i in range(x_train.shape[0])]\n",
    "angle_test=[random.randrange(-45,45,1) for i in range(x_test.shape[0])]\n",
    "transformed_images=[]\n",
    "transformed_images_test=[]\n",
    "\n",
    "for i in range(len(angle_train)):\n",
    "    transformed_images.append(transform_by_rotation(x_train[i,:,:],angle_train[i]))\n",
    "rx_train=np.array(transformed_images)    \n",
    "\n",
    "\n",
    "for i in range(len(angle_test)):\n",
    "    transformed_images_test.append(transform_by_rotation(x_test[i,:,:],angle_test[i]))\n",
    "rx_test=np.array(transformed_images_test)\n"
   ]
  },
  {
   "cell_type": "markdown",
   "metadata": {},
   "source": [
    "### Distribution of transformed angles"
   ]
  },
  {
   "cell_type": "code",
   "execution_count": 7,
   "metadata": {},
   "outputs": [
    {
     "data": {
      "image/png": "[encoded data removed]",
      "text/plain": [
       "<Figure size 432x288 with 1 Axes>"
      ]
     },
     "metadata": {
      "needs_background": "light"
     },
     "output_type": "display_data"
    }
   ],
   "source": [
    "plt.hist(angle_train, bins=100) ## For Training Data\n",
    "plt.show()"
   ]
  },
  {
   "cell_type": "code",
   "execution_count": 8,
   "metadata": {},
   "outputs": [
    {
     "data": {
      "image/png": "[encoded data removed]",
      "text/plain": [
       "<Figure size 432x288 with 1 Axes>"
      ]
     },
     "metadata": {
      "needs_background": "light"
     },
     "output_type": "display_data"
    }
   ],
   "source": [
    "plt.hist(angle_test, bins=100) ## For Test Data\n",
    "plt.show()"
   ]
  },
  {
   "cell_type": "code",
   "execution_count": 9,
   "metadata": {},
   "outputs": [
    {
     "data": {
      "image/png": "[encoded data removed]",
      "text/plain": [
       "<Figure size 432x288 with 2 Axes>"
      ]
     },
     "metadata": {
      "needs_background": "light"
     },
     "output_type": "display_data"
    },
    {
     "name": "stdout",
     "output_type": "stream",
     "text": [
      "angle rotated by -21\n"
     ]
    }
   ],
   "source": [
    "s=57\n",
    "arr,axi=plt.subplots(1,2)\n",
    "axi[0].imshow(x_train[s,:,:]/255)\n",
    "axi[1].imshow(rx_train[s,:,:]/255)\n",
    "plt.show()\n",
    "print(\"angle rotated by \" + str(angle_train[s]))"
   ]
  },
  {
   "cell_type": "code",
   "execution_count": 10,
   "metadata": {},
   "outputs": [
    {
     "name": "stdout",
     "output_type": "stream",
     "text": [
      "Model: \"sequential\"\n",
      "_________________________________________________________________\n",
      "Layer (type)                 Output Shape              Param #   \n",
      "=================================================================\n",
      "conv2d (Conv2D)              (None, 28, 28, 8)         80        \n",
      "_________________________________________________________________\n",
      "average_pooling2d (AveragePo (None, 14, 14, 8)         0         \n",
      "_________________________________________________________________\n",
      "conv2d_1 (Conv2D)            (None, 14, 14, 16)        1168      \n",
      "_________________________________________________________________\n",
      "average_pooling2d_1 (Average (None, 7, 7, 16)          0         \n",
      "_________________________________________________________________\n",
      "conv2d_2 (Conv2D)            (None, 7, 7, 32)          4640      \n",
      "_________________________________________________________________\n",
      "average_pooling2d_2 (Average (None, 3, 3, 32)          0         \n",
      "_________________________________________________________________\n",
      "dropout (Dropout)            (None, 3, 3, 32)          0         \n",
      "_________________________________________________________________\n",
      "flatten (Flatten)            (None, 288)               0         \n",
      "_________________________________________________________________\n",
      "dense (Dense)                (None, 1)                 289       \n",
      "=================================================================\n",
      "Total params: 6,177\n",
      "Trainable params: 6,177\n",
      "Non-trainable params: 0\n",
      "_________________________________________________________________\n"
     ]
    }
   ],
   "source": [
    "model = tf.keras.models.Sequential([\n",
    "  tf.keras.layers.Conv2D(8, (3,3), activation='relu',padding=\"same\", input_shape=(28, 28,1)),\n",
    "  tf.keras.layers.AveragePooling2D(pool_size=(2, 2), strides=2, padding=\"valid\",autocast=False),\n",
    "  tf.keras.layers.Conv2D(16, (3,3),padding=\"same\", activation='relu'),\n",
    "  tf.keras.layers.AveragePooling2D(pool_size=(2, 2), strides=2, padding=\"valid\",autocast=False),\n",
    "  tf.keras.layers.Conv2D(32, (3,3),padding=\"same\", activation='relu'),\n",
    "  tf.keras.layers.AveragePooling2D(pool_size=(2, 2), strides=2, padding=\"valid\",autocast=False),\n",
    "  tf.keras.layers.Dropout(.2),\n",
    "  tf.keras.layers.Flatten(),\n",
    "  tf.keras.layers.Dense(1, activation='linear')\n",
    "])\n",
    "model.compile(optimizer='adam', loss='mean_squared_error',metrics=['mae'])\n",
    "model.summary()"
   ]
  },
  {
   "cell_type": "code",
   "execution_count": 11,
   "metadata": {
    "scrolled": true
   },
   "outputs": [
    {
     "name": "stdout",
     "output_type": "stream",
     "text": [
      "Epoch 1/30\n",
      "1875/1875 [==============================] - 9s 5ms/step - loss: 226.8802 - mae: 11.6925 - val_loss: 1161.4344 - val_mae: 27.9475\n",
      "Epoch 2/30\n",
      "1875/1875 [==============================] - 9s 5ms/step - loss: 172.6086 - mae: 10.0654 - val_loss: 1221.4301 - val_mae: 28.5876\n",
      "Epoch 3/30\n",
      "1875/1875 [==============================] - 9s 5ms/step - loss: 157.0209 - mae: 9.5406 - val_loss: 1214.1884 - val_mae: 28.5269\n",
      "Epoch 4/30\n",
      "1875/1875 [==============================] - 9s 5ms/step - loss: 146.4982 - mae: 9.1891 - val_loss: 1314.1729 - val_mae: 29.6042\n",
      "Epoch 5/30\n",
      "1875/1875 [==============================] - 9s 5ms/step - loss: 139.0463 - mae: 8.9058 - val_loss: 1181.6053 - val_mae: 28.1607\n",
      "Epoch 6/30\n",
      "1875/1875 [==============================] - 10s 5ms/step - loss: 131.9261 - mae: 8.6268 - val_loss: 1203.3654 - val_mae: 28.4003\n",
      "Epoch 7/30\n",
      "1875/1875 [==============================] - 9s 5ms/step - loss: 123.7721 - mae: 8.3360 - val_loss: 1166.1309 - val_mae: 27.9783\n",
      "Epoch 8/30\n",
      "1875/1875 [==============================] - 9s 5ms/step - loss: 118.9798 - mae: 8.1407 - val_loss: 1222.4623 - val_mae: 28.5997\n",
      "Epoch 9/30\n",
      "1875/1875 [==============================] - 9s 5ms/step - loss: 114.6353 - mae: 7.9882 - val_loss: 1302.0240 - val_mae: 29.4845\n",
      "Epoch 10/30\n",
      "1875/1875 [==============================] - 9s 5ms/step - loss: 111.8768 - mae: 7.8972 - val_loss: 1194.3292 - val_mae: 28.2916\n",
      "Epoch 11/30\n",
      "1875/1875 [==============================] - 9s 5ms/step - loss: 109.5770 - mae: 7.8155 - val_loss: 1199.8518 - val_mae: 28.3608\n",
      "Epoch 12/30\n",
      "1875/1875 [==============================] - 9s 5ms/step - loss: 106.7577 - mae: 7.6994 - val_loss: 1283.0909 - val_mae: 29.2712\n",
      "Epoch 13/30\n",
      "1875/1875 [==============================] - 10s 5ms/step - loss: 104.8074 - mae: 7.6326 - val_loss: 1152.4973 - val_mae: 27.8344\n",
      "Epoch 14/30\n",
      "1875/1875 [==============================] - 9s 5ms/step - loss: 102.7527 - mae: 7.5459 - val_loss: 1176.7595 - val_mae: 28.1055\n",
      "Epoch 15/30\n",
      "1875/1875 [==============================] - 10s 5ms/step - loss: 102.0154 - mae: 7.5257 - val_loss: 1191.0951 - val_mae: 28.2413\n",
      "Epoch 16/30\n",
      "1875/1875 [==============================] - 10s 5ms/step - loss: 99.9202 - mae: 7.4380 - val_loss: 1249.6549 - val_mae: 28.8949\n",
      "Epoch 17/30\n",
      "1875/1875 [==============================] - 9s 5ms/step - loss: 98.9410 - mae: 7.4076 - val_loss: 1287.2386 - val_mae: 29.3107\n",
      "Epoch 18/30\n",
      "1875/1875 [==============================] - 9s 5ms/step - loss: 97.7523 - mae: 7.3469 - val_loss: 1182.2172 - val_mae: 28.1440\n",
      "Epoch 19/30\n",
      "1875/1875 [==============================] - 10s 5ms/step - loss: 96.0668 - mae: 7.2870 - val_loss: 1195.1508 - val_mae: 28.2884\n",
      "Epoch 20/30\n",
      "1875/1875 [==============================] - 11s 6ms/step - loss: 94.7539 - mae: 7.2450 - val_loss: 1217.2031 - val_mae: 28.5141\n",
      "Epoch 21/30\n",
      "1875/1875 [==============================] - 10s 5ms/step - loss: 94.1387 - mae: 7.2090 - val_loss: 1217.6592 - val_mae: 28.5156\n",
      "Epoch 22/30\n",
      "1875/1875 [==============================] - 10s 5ms/step - loss: 92.2189 - mae: 7.1242 - val_loss: 1237.9489 - val_mae: 28.7369\n",
      "Epoch 23/30\n",
      "1875/1875 [==============================] - 10s 5ms/step - loss: 90.9530 - mae: 7.0735 - val_loss: 1143.7137 - val_mae: 27.7329\n",
      "Epoch 24/30\n",
      "1875/1875 [==============================] - 10s 5ms/step - loss: 90.1846 - mae: 7.0568 - val_loss: 1327.0179 - val_mae: 29.7313\n",
      "Epoch 25/30\n",
      "1875/1875 [==============================] - 10s 5ms/step - loss: 88.5310 - mae: 6.9821 - val_loss: 1302.8694 - val_mae: 29.4610\n",
      "Epoch 26/30\n",
      "1875/1875 [==============================] - 10s 5ms/step - loss: 87.1728 - mae: 6.9233 - val_loss: 1364.5732 - val_mae: 30.1705\n",
      "Epoch 27/30\n",
      "1875/1875 [==============================] - 10s 5ms/step - loss: 86.2859 - mae: 6.8760 - val_loss: 1216.0613 - val_mae: 28.5075\n",
      "Epoch 28/30\n",
      "1875/1875 [==============================] - 10s 5ms/step - loss: 84.2804 - mae: 6.7962 - val_loss: 1271.0323 - val_mae: 29.1150\n",
      "Epoch 29/30\n",
      "1875/1875 [==============================] - 10s 5ms/step - loss: 83.4405 - mae: 6.7738 - val_loss: 1242.7275 - val_mae: 28.8007\n",
      "Epoch 30/30\n",
      "1875/1875 [==============================] - 11s 6ms/step - loss: 83.6388 - mae: 6.7710 - val_loss: 1199.2317 - val_mae: 28.3314\n"
     ]
    }
   ],
   "source": [
    "m=x_train.shape[0]\n",
    "test_x=rx_test.reshape(rx_test.shape[0],28,28,1)\n",
    "m2=rx_test.shape[0]\n",
    "hist1=model.fit(rx_train[:m,:,:].reshape(m,28,28,1), np.array(angle_train[0:m]),batch_size=32, epochs=30,\n",
    "               validation_data=(rx_test[:m2,:,:].reshape(m2,28,28,1), np.array(angle_train[0:m2])))\n"
   ]
  },
  {
   "cell_type": "code",
   "execution_count": 12,
   "metadata": {},
   "outputs": [
    {
     "name": "stdout",
     "output_type": "stream",
     "text": [
      "313/313 [==============================] - 1s 3ms/step - loss: 1199.2317 - mae: 28.3314\n"
     ]
    },
    {
     "data": {
      "text/plain": [
       "[1199.231689453125, 28.331405639648438]"
      ]
     },
     "execution_count": 12,
     "metadata": {},
     "output_type": "execute_result"
    }
   ],
   "source": [
    "model.evaluate(rx_test[:m2,:,:].reshape(m2,28,28,1), np.array(angle_train[0:m2]))"
   ]
  },
  {
   "cell_type": "markdown",
   "metadata": {},
   "source": [
    "### Accuracy Of the Model on Training and Test Data"
   ]
  },
  {
   "cell_type": "code",
   "execution_count": 15,
   "metadata": {},
   "outputs": [],
   "source": [
    "def model_perf(x,y,preds,correct):    \n",
    "    mae_error=preds-np.array(correct).reshape(x.shape[0],1) \n",
    "    hist=pd.DataFrame(mae_error,columns=['error']) \n",
    "    hist[\"Number On Image\"]=y\n",
    "    hist[\"transformed_angle\"]=correct\n",
    "    hist[\"pred_angle\"]=preds\n",
    "    \n",
    "    hist[\"abs_error\"]=np.absolute(mae_error)\n",
    "    hist[\"difference\"]=np.absolute(hist[\"transformed_angle\"]-hist[\"pred_angle\"])\n",
    "\n",
    "    return hist    "
   ]
  },
  {
   "cell_type": "code",
   "execution_count": 26,
   "metadata": {},
   "outputs": [],
   "source": [
    "predictions_test = model.predict(rx_test.reshape(rx_test.shape[0],28,28,1))\n",
    "predictions_train = model.predict(rx_train.reshape(rx_train.shape[0],28,28,1))\n",
    "hist_test=model_perf(x_test,y_test,predictions_test,angle_test)\n",
    "hist_train=model_perf(x_train,y_train,predictions_train,angle_train)"
   ]
  },
  {
   "cell_type": "code",
   "execution_count": 27,
   "metadata": {},
   "outputs": [
    {
     "name": "stdout",
     "output_type": "stream",
     "text": [
      "Accuracy of the model on train data is 93.25333333333333\n",
      "Accuracy of the model on test data is 92.12\n"
     ]
    }
   ],
   "source": [
    "print(\"Accuracy of the model on train data is \"+str(accuracy(hist_train)))\n",
    "print(\"Accuracy of the model on test data is \"+str(accuracy(hist_test)))"
   ]
  },
  {
   "cell_type": "markdown",
   "metadata": {},
   "source": [
    "### Model perfomance"
   ]
  },
  {
   "cell_type": "code",
   "execution_count": 28,
   "metadata": {},
   "outputs": [
    {
     "data": {
      "text/html": [
       "<div>\n",
       "<style scoped>\n",
       "    .dataframe tbody tr th:only-of-type {\n",
       "        vertical-align: middle;\n",
       "    }\n",
       "\n",
       "    .dataframe tbody tr th {\n",
       "        vertical-align: top;\n",
       "    }\n",
       "\n",
       "    .dataframe thead th {\n",
       "        text-align: right;\n",
       "    }\n",
       "</style>\n",
       "<table border=\"1\" class=\"dataframe\">\n",
       "  <thead>\n",
       "    <tr style=\"text-align: right;\">\n",
       "      <th></th>\n",
       "      <th>error</th>\n",
       "      <th>Number On Image</th>\n",
       "      <th>transformed_angle</th>\n",
       "      <th>pred_angle</th>\n",
       "      <th>abs_error</th>\n",
       "      <th>difference</th>\n",
       "    </tr>\n",
       "  </thead>\n",
       "  <tbody>\n",
       "    <tr>\n",
       "      <th>0</th>\n",
       "      <td>6.129593</td>\n",
       "      <td>7</td>\n",
       "      <td>-31</td>\n",
       "      <td>-24.870407</td>\n",
       "      <td>6.129593</td>\n",
       "      <td>6.129593</td>\n",
       "    </tr>\n",
       "    <tr>\n",
       "      <th>1</th>\n",
       "      <td>3.134103</td>\n",
       "      <td>2</td>\n",
       "      <td>-8</td>\n",
       "      <td>-4.865897</td>\n",
       "      <td>3.134103</td>\n",
       "      <td>3.134103</td>\n",
       "    </tr>\n",
       "    <tr>\n",
       "      <th>2</th>\n",
       "      <td>1.495842</td>\n",
       "      <td>1</td>\n",
       "      <td>-38</td>\n",
       "      <td>-36.504158</td>\n",
       "      <td>1.495842</td>\n",
       "      <td>1.495842</td>\n",
       "    </tr>\n",
       "    <tr>\n",
       "      <th>3</th>\n",
       "      <td>8.863182</td>\n",
       "      <td>0</td>\n",
       "      <td>-43</td>\n",
       "      <td>-34.136818</td>\n",
       "      <td>8.863182</td>\n",
       "      <td>8.863182</td>\n",
       "    </tr>\n",
       "    <tr>\n",
       "      <th>4</th>\n",
       "      <td>1.635307</td>\n",
       "      <td>4</td>\n",
       "      <td>-38</td>\n",
       "      <td>-36.364693</td>\n",
       "      <td>1.635307</td>\n",
       "      <td>1.635307</td>\n",
       "    </tr>\n",
       "    <tr>\n",
       "      <th>...</th>\n",
       "      <td>...</td>\n",
       "      <td>...</td>\n",
       "      <td>...</td>\n",
       "      <td>...</td>\n",
       "      <td>...</td>\n",
       "      <td>...</td>\n",
       "    </tr>\n",
       "    <tr>\n",
       "      <th>9995</th>\n",
       "      <td>-2.986145</td>\n",
       "      <td>2</td>\n",
       "      <td>37</td>\n",
       "      <td>34.013855</td>\n",
       "      <td>2.986145</td>\n",
       "      <td>2.986145</td>\n",
       "    </tr>\n",
       "    <tr>\n",
       "      <th>9996</th>\n",
       "      <td>2.729838</td>\n",
       "      <td>3</td>\n",
       "      <td>-7</td>\n",
       "      <td>-4.270162</td>\n",
       "      <td>2.729838</td>\n",
       "      <td>2.729838</td>\n",
       "    </tr>\n",
       "    <tr>\n",
       "      <th>9997</th>\n",
       "      <td>-0.887997</td>\n",
       "      <td>4</td>\n",
       "      <td>19</td>\n",
       "      <td>18.112003</td>\n",
       "      <td>0.887997</td>\n",
       "      <td>0.887997</td>\n",
       "    </tr>\n",
       "    <tr>\n",
       "      <th>9998</th>\n",
       "      <td>-15.770971</td>\n",
       "      <td>5</td>\n",
       "      <td>11</td>\n",
       "      <td>-4.770971</td>\n",
       "      <td>15.770971</td>\n",
       "      <td>15.770971</td>\n",
       "    </tr>\n",
       "    <tr>\n",
       "      <th>9999</th>\n",
       "      <td>0.791775</td>\n",
       "      <td>6</td>\n",
       "      <td>28</td>\n",
       "      <td>28.791775</td>\n",
       "      <td>0.791775</td>\n",
       "      <td>0.791775</td>\n",
       "    </tr>\n",
       "  </tbody>\n",
       "</table>\n",
       "<p>10000 rows × 6 columns</p>\n",
       "</div>"
      ],
      "text/plain": [
       "          error  Number On Image  transformed_angle  pred_angle  abs_error  \\\n",
       "0      6.129593                7                -31  -24.870407   6.129593   \n",
       "1      3.134103                2                 -8   -4.865897   3.134103   \n",
       "2      1.495842                1                -38  -36.504158   1.495842   \n",
       "3      8.863182                0                -43  -34.136818   8.863182   \n",
       "4      1.635307                4                -38  -36.364693   1.635307   \n",
       "...         ...              ...                ...         ...        ...   \n",
       "9995  -2.986145                2                 37   34.013855   2.986145   \n",
       "9996   2.729838                3                 -7   -4.270162   2.729838   \n",
       "9997  -0.887997                4                 19   18.112003   0.887997   \n",
       "9998 -15.770971                5                 11   -4.770971  15.770971   \n",
       "9999   0.791775                6                 28   28.791775   0.791775   \n",
       "\n",
       "      difference  \n",
       "0       6.129593  \n",
       "1       3.134103  \n",
       "2       1.495842  \n",
       "3       8.863182  \n",
       "4       1.635307  \n",
       "...          ...  \n",
       "9995    2.986145  \n",
       "9996    2.729838  \n",
       "9997    0.887997  \n",
       "9998   15.770971  \n",
       "9999    0.791775  \n",
       "\n",
       "[10000 rows x 6 columns]"
      ]
     },
     "execution_count": 28,
     "metadata": {},
     "output_type": "execute_result"
    }
   ],
   "source": [
    "hist_test ### Performance on each Test Sample "
   ]
  },
  {
   "cell_type": "code",
   "execution_count": 29,
   "metadata": {},
   "outputs": [
    {
     "data": {
      "text/html": [
       "<div>\n",
       "<style scoped>\n",
       "    .dataframe tbody tr th:only-of-type {\n",
       "        vertical-align: middle;\n",
       "    }\n",
       "\n",
       "    .dataframe tbody tr th {\n",
       "        vertical-align: top;\n",
       "    }\n",
       "\n",
       "    .dataframe thead th {\n",
       "        text-align: right;\n",
       "    }\n",
       "</style>\n",
       "<table border=\"1\" class=\"dataframe\">\n",
       "  <thead>\n",
       "    <tr style=\"text-align: right;\">\n",
       "      <th></th>\n",
       "      <th>error</th>\n",
       "      <th>Number On Image</th>\n",
       "      <th>transformed_angle</th>\n",
       "      <th>pred_angle</th>\n",
       "      <th>abs_error</th>\n",
       "      <th>difference</th>\n",
       "    </tr>\n",
       "  </thead>\n",
       "  <tbody>\n",
       "    <tr>\n",
       "      <th>4082</th>\n",
       "      <td>-52.984401</td>\n",
       "      <td>0</td>\n",
       "      <td>39</td>\n",
       "      <td>-13.984401</td>\n",
       "      <td>52.984401</td>\n",
       "      <td>52.984401</td>\n",
       "    </tr>\n",
       "    <tr>\n",
       "      <th>4112</th>\n",
       "      <td>52.993012</td>\n",
       "      <td>8</td>\n",
       "      <td>-43</td>\n",
       "      <td>9.993012</td>\n",
       "      <td>52.993012</td>\n",
       "      <td>52.993012</td>\n",
       "    </tr>\n",
       "    <tr>\n",
       "      <th>9070</th>\n",
       "      <td>-53.174821</td>\n",
       "      <td>0</td>\n",
       "      <td>42</td>\n",
       "      <td>-11.174821</td>\n",
       "      <td>53.174821</td>\n",
       "      <td>53.174821</td>\n",
       "    </tr>\n",
       "    <tr>\n",
       "      <th>3347</th>\n",
       "      <td>53.920743</td>\n",
       "      <td>0</td>\n",
       "      <td>-38</td>\n",
       "      <td>15.920743</td>\n",
       "      <td>53.920743</td>\n",
       "      <td>53.920743</td>\n",
       "    </tr>\n",
       "    <tr>\n",
       "      <th>6526</th>\n",
       "      <td>-59.083380</td>\n",
       "      <td>0</td>\n",
       "      <td>43</td>\n",
       "      <td>-16.083380</td>\n",
       "      <td>59.083380</td>\n",
       "      <td>59.083380</td>\n",
       "    </tr>\n",
       "  </tbody>\n",
       "</table>\n",
       "</div>"
      ],
      "text/plain": [
       "          error  Number On Image  transformed_angle  pred_angle  abs_error  \\\n",
       "4082 -52.984401                0                 39  -13.984401  52.984401   \n",
       "4112  52.993012                8                -43    9.993012  52.993012   \n",
       "9070 -53.174821                0                 42  -11.174821  53.174821   \n",
       "3347  53.920743                0                -38   15.920743  53.920743   \n",
       "6526 -59.083380                0                 43  -16.083380  59.083380   \n",
       "\n",
       "      difference  \n",
       "4082   52.984401  \n",
       "4112   52.993012  \n",
       "9070   53.174821  \n",
       "3347   53.920743  \n",
       "6526   59.083380  "
      ]
     },
     "execution_count": 29,
     "metadata": {},
     "output_type": "execute_result"
    }
   ],
   "source": [
    "hist_test.sort_values(\"abs_error\").tail()  ### Worst Perfomed Images "
   ]
  },
  {
   "cell_type": "code",
   "execution_count": 30,
   "metadata": {},
   "outputs": [
    {
     "data": {
      "text/html": [
       "<div>\n",
       "<style scoped>\n",
       "    .dataframe tbody tr th:only-of-type {\n",
       "        vertical-align: middle;\n",
       "    }\n",
       "\n",
       "    .dataframe tbody tr th {\n",
       "        vertical-align: top;\n",
       "    }\n",
       "\n",
       "    .dataframe thead th {\n",
       "        text-align: right;\n",
       "    }\n",
       "</style>\n",
       "<table border=\"1\" class=\"dataframe\">\n",
       "  <thead>\n",
       "    <tr style=\"text-align: right;\">\n",
       "      <th></th>\n",
       "      <th>error</th>\n",
       "      <th>Number On Image</th>\n",
       "      <th>transformed_angle</th>\n",
       "      <th>pred_angle</th>\n",
       "      <th>abs_error</th>\n",
       "      <th>difference</th>\n",
       "    </tr>\n",
       "  </thead>\n",
       "  <tbody>\n",
       "    <tr>\n",
       "      <th>1518</th>\n",
       "      <td>-60.649340</td>\n",
       "      <td>9</td>\n",
       "      <td>44</td>\n",
       "      <td>-16.649340</td>\n",
       "      <td>60.649340</td>\n",
       "      <td>60.649340</td>\n",
       "    </tr>\n",
       "    <tr>\n",
       "      <th>51544</th>\n",
       "      <td>61.453026</td>\n",
       "      <td>1</td>\n",
       "      <td>-29</td>\n",
       "      <td>32.453026</td>\n",
       "      <td>61.453026</td>\n",
       "      <td>61.453026</td>\n",
       "    </tr>\n",
       "    <tr>\n",
       "      <th>3056</th>\n",
       "      <td>-64.623779</td>\n",
       "      <td>4</td>\n",
       "      <td>43</td>\n",
       "      <td>-21.623779</td>\n",
       "      <td>64.623779</td>\n",
       "      <td>64.623779</td>\n",
       "    </tr>\n",
       "    <tr>\n",
       "      <th>2765</th>\n",
       "      <td>65.590843</td>\n",
       "      <td>0</td>\n",
       "      <td>-45</td>\n",
       "      <td>20.590843</td>\n",
       "      <td>65.590843</td>\n",
       "      <td>65.590843</td>\n",
       "    </tr>\n",
       "    <tr>\n",
       "      <th>36744</th>\n",
       "      <td>70.190140</td>\n",
       "      <td>1</td>\n",
       "      <td>-36</td>\n",
       "      <td>34.190140</td>\n",
       "      <td>70.190140</td>\n",
       "      <td>70.190140</td>\n",
       "    </tr>\n",
       "  </tbody>\n",
       "</table>\n",
       "</div>"
      ],
      "text/plain": [
       "           error  Number On Image  transformed_angle  pred_angle  abs_error  \\\n",
       "1518  -60.649340                9                 44  -16.649340  60.649340   \n",
       "51544  61.453026                1                -29   32.453026  61.453026   \n",
       "3056  -64.623779                4                 43  -21.623779  64.623779   \n",
       "2765   65.590843                0                -45   20.590843  65.590843   \n",
       "36744  70.190140                1                -36   34.190140  70.190140   \n",
       "\n",
       "       difference  \n",
       "1518    60.649340  \n",
       "51544   61.453026  \n",
       "3056    64.623779  \n",
       "2765    65.590843  \n",
       "36744   70.190140  "
      ]
     },
     "execution_count": 30,
     "metadata": {},
     "output_type": "execute_result"
    }
   ],
   "source": [
    "hist_train.sort_values(\"abs_error\").tail()"
   ]
  },
  {
   "cell_type": "markdown",
   "metadata": {},
   "source": [
    "### Loss and MAE"
   ]
  },
  {
   "cell_type": "code",
   "execution_count": 61,
   "metadata": {},
   "outputs": [
    {
     "data": {
      "image/png": "[encoded data removed]",
      "text/plain": [
       "<Figure size 432x288 with 1 Axes>"
      ]
     },
     "metadata": {
      "needs_background": "light"
     },
     "output_type": "display_data"
    }
   ],
   "source": [
    "_ = plt.plot(hist1.history[\"loss\"],'b',label=\"Training Loss\")\n",
    "\n",
    "_ = plt.xlabel('iterations')\n",
    "_ = plt.ylabel('Loss')\n",
    "_ = plt.legend(loc=\"best\")\n",
    "\n",
    "_ = plt.title('Loss v.s. iterations')"
   ]
  },
  {
   "cell_type": "code",
   "execution_count": 60,
   "metadata": {},
   "outputs": [
    {
     "data": {
      "image/png": "[encoded data removed]",
      "text/plain": [
       "<Figure size 432x288 with 1 Axes>"
      ]
     },
     "metadata": {
      "needs_background": "light"
     },
     "output_type": "display_data"
    }
   ],
   "source": [
    "\n",
    "_ = plt.plot(hist1.history[\"val_loss\"],'r',label=\"Validation Loss\")\n",
    "_ = plt.xlabel('iterations')\n",
    "_ = plt.ylabel('Loss')\n",
    "_ = plt.legend(loc=\"best\")\n",
    "\n",
    "_ = plt.title('Loss v.s. iterations')"
   ]
  },
  {
   "cell_type": "code",
   "execution_count": 65,
   "metadata": {},
   "outputs": [
    {
     "data": {
      "image/png": "[encoded data removed]",
      "text/plain": [
       "<Figure size 432x288 with 1 Axes>"
      ]
     },
     "metadata": {
      "needs_background": "light"
     },
     "output_type": "display_data"
    }
   ],
   "source": [
    "_ = plt.plot(hist1.history[\"mae\"],'b',label=\"Training mae\")\n",
    "\n",
    "_ = plt.xlabel('iterations')\n",
    "_ = plt.ylabel('MAE')\n",
    "_ = plt.legend(loc=\"best\")\n",
    "\n",
    "_ = plt.title('MAE v.s. iterations')"
   ]
  },
  {
   "cell_type": "code",
   "execution_count": 64,
   "metadata": {},
   "outputs": [
    {
     "data": {
      "image/png": "[encoded data removed]",
      "text/plain": [
       "<Figure size 432x288 with 1 Axes>"
      ]
     },
     "metadata": {
      "needs_background": "light"
     },
     "output_type": "display_data"
    }
   ],
   "source": [
    "_ = plt.plot(hist1.history[\"val_mae\"],'r',label=\"Validation mae\")\n",
    "_ = plt.xlabel('iterations')\n",
    "_ = plt.ylabel('MAE')\n",
    "_ = plt.legend(loc=\"best\")\n",
    "\n",
    "_ = plt.title('MAE v.s. iterations')"
   ]
  },
  {
   "cell_type": "markdown",
   "metadata": {},
   "source": [
    "### 5 Worst predicted samples"
   ]
  },
  {
   "cell_type": "code",
   "execution_count": 23,
   "metadata": {},
   "outputs": [
    {
     "data": {
      "image/png": "[encoded data removed]",
      "text/plain": [
       "<Figure size 1080x1080 with 10 Axes>"
      ]
     },
     "metadata": {
      "needs_background": "light"
     },
     "output_type": "display_data"
    }
   ],
   "source": [
    "worst_predicted_numbers=model_perf(x_test,y_test,predictions_test,angle_test).sort_values(\"abs_error\").tail().index\n",
    "s=5\n",
    "arr,axi=plt.subplots(5,2)\n",
    "arr.set_figheight(15)\n",
    "arr.set_figwidth(15)\n",
    "for i in range(5):\n",
    "    axi[i,0].imshow(x_test[worst_predicted_numbers[i],:,:])\n",
    "    axi[i,1].imshow(rx_test[worst_predicted_numbers[i],:,:])\n",
    "    axi[i,1].set_title('rotated by '+str(angle_test[worst_predicted_numbers[i]])+' , angle predicted by model is '+str(int(predictions_test[worst_predicted_numbers[i]])))\n",
    "    axi[i,0].set_title(\"Actual Image without any Transformation\")"
   ]
  },
  {
   "cell_type": "markdown",
   "metadata": {},
   "source": [
    "**Reasoning for worst 5 prediction**<br>\n",
    "Among 5 worst predicted samples there are four 0's and one 8, It is difficult for the model to predict these images because \"0\"(zero) is 360 degrees symmetry so how much ever we rotate the zero it remains same, which makes it diffult to determine its actual transformation. and even number 8 has the symmetry property and number 8 also has two circles and there are other numbers which have circles(number 0,6,9) so when rotated it coincides with other numbers(like 0,6,9) and also the number 8 here is not properly written"
   ]
  }
 ],
 "metadata": {
  "kernelspec": {
   "display_name": "Python 3",
   "language": "python",
   "name": "python3"
  },
  "language_info": {
   "codemirror_mode": {
    "name": "ipython",
    "version": 3
   },
   "file_extension": ".py",
   "mimetype": "text/x-python",
   "name": "python",
   "nbconvert_exporter": "python",
   "pygments_lexer": "ipython3",
   "version": "3.8.5"
  }
 },
 "nbformat": 4,
 "nbformat_minor": 4
}
